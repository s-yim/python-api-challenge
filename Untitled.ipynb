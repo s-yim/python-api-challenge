{
 "cells": [
  {
   "cell_type": "code",
   "execution_count": 1,
   "id": "288f8aff",
   "metadata": {},
   "outputs": [
    {
     "name": "stdout",
     "output_type": "stream",
     "text": [
      "Collecting citipyNote: you may need to restart the kernel to use updated packages.\n",
      "\n",
      "  Downloading citipy-0.0.6.tar.gz (675 kB)\n",
      "     ---------------------------------------- 0.0/675.6 kB ? eta -:--:--\n",
      "     ------------------------- ------------ 450.6/675.6 kB 9.4 MB/s eta 0:00:01\n",
      "     ------------------------------------- 675.6/675.6 kB 10.6 MB/s eta 0:00:00\n",
      "  Preparing metadata (setup.py): started\n",
      "  Preparing metadata (setup.py): finished with status 'done'\n",
      "Collecting kdtree>=0.12 (from citipy)\n",
      "  Downloading kdtree-0.16-py2.py3-none-any.whl (7.7 kB)\n",
      "Building wheels for collected packages: citipy\n",
      "  Building wheel for citipy (setup.py): started\n",
      "  Building wheel for citipy (setup.py): finished with status 'done'\n",
      "  Created wheel for citipy: filename=citipy-0.0.6-py3-none-any.whl size=675977 sha256=7d260ff4e7923a53a8f25b2c6b78bd9a3b6bd4a25edaa0344ee75feb130384c9\n",
      "  Stored in directory: c:\\users\\sungm\\appdata\\local\\pip\\cache\\wheels\\4b\\b5\\88\\49107ff846ec6967b34c17d369176c591fc90ed93b706755ad\n",
      "Successfully built citipy\n",
      "Installing collected packages: kdtree, citipy\n",
      "Successfully installed citipy-0.0.6 kdtree-0.16\n"
     ]
    }
   ],
   "source": [
    "pip install citipy\n"
   ]
  },
  {
   "cell_type": "code",
   "execution_count": 3,
   "id": "4a0a1df3",
   "metadata": {},
   "outputs": [
    {
     "ename": "NameError",
     "evalue": "name 'citypi' is not defined",
     "output_type": "error",
     "traceback": [
      "\u001b[1;31m---------------------------------------------------------------------------\u001b[0m",
      "\u001b[1;31mNameError\u001b[0m                                 Traceback (most recent call last)",
      "Cell \u001b[1;32mIn[3], line 1\u001b[0m\n\u001b[1;32m----> 1\u001b[0m citypi\n",
      "\u001b[1;31mNameError\u001b[0m: name 'citypi' is not defined"
     ]
    }
   ],
   "source": [
    "citypi\n"
   ]
  },
  {
   "cell_type": "code",
   "execution_count": null,
   "id": "9223ae03",
   "metadata": {},
   "outputs": [],
   "source": []
  }
 ],
 "metadata": {
  "kernelspec": {
   "display_name": "Python 3 (ipykernel)",
   "language": "python",
   "name": "python3"
  },
  "language_info": {
   "codemirror_mode": {
    "name": "ipython",
    "version": 3
   },
   "file_extension": ".py",
   "mimetype": "text/x-python",
   "name": "python",
   "nbconvert_exporter": "python",
   "pygments_lexer": "ipython3",
   "version": "3.11.4"
  }
 },
 "nbformat": 4,
 "nbformat_minor": 5
}
